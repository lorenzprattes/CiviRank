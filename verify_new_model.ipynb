{
 "cells": [
  {
   "cell_type": "code",
   "execution_count": 1,
   "metadata": {},
   "outputs": [
    {
     "name": "stderr",
     "output_type": "stream",
     "text": [
      "/miniconda/envs/ranker/lib/python3.11/site-packages/sentence_transformers/cross_encoder/CrossEncoder.py:11: TqdmWarning: IProgress not found. Please update jupyter and ipywidgets. See https://ipywidgets.readthedocs.io/en/stable/user_install.html\n",
      "  from tqdm.autonotebook import tqdm, trange\n"
     ]
    }
   ],
   "source": [
    "import pytest\n",
    "import sys\n",
    "sys.path.append('../civirank')\n",
    "sys.path.append('..')\n",
    "from civirank.rankers import LocalRanker\n",
    "import pandas as pd\n",
    "import os\n",
    "import json\n",
    "from pydantic.tools import parse_obj_as\n",
    "sys.path.append('..')\n",
    "from utils import Comment, Comments, RankingResponse\n",
    "ranker = LocalRanker()"
   ]
  },
  {
   "cell_type": "code",
   "execution_count": null,
   "metadata": {},
   "outputs": [
    {
     "name": "stderr",
     "output_type": "stream",
     "text": [
      "/tmp/ipykernel_1627/2309720878.py:4: PydanticDeprecatedSince20: `parse_obj_as` is deprecated. Use `pydantic.TypeAdapter.validate_python` instead. Deprecated in Pydantic V2.0 to be removed in V3.0. See Pydantic V2 Migration Guide at https://errors.pydantic.dev/2.9/migration/\n",
      "  comments = parse_obj_as(Comments, comments_data)\n"
     ]
    },
    {
     "name": "stdout",
     "output_type": "stream",
     "text": [
      "<p>test</p>trustnantoxic0polar0.0prosocia0.0mltd3.0\n",
      "<p>ahh stupid shit</trustnantoxic1polar0.4208327531814575prosocia0.3350687623023987mltd7.000000000000002\n",
      "<p>deega</p>trustnantoxic0polar0.0prosocia0.0mltd3.0\n",
      "<p>wieso is das kacktrustnantoxic1polar0.13185298442840576prosocia0.19432401657104492mltd9.449135802469137\n",
      "<p>scheissdreck</p>trustnantoxic0polar0.0prosocia0.0mltd3.0\n",
      "<p>griechen stinken trustnantoxic3polar0.005994252860546112prosocia-0.09473811835050583mltd7.000000000000002\n",
      "<p>this is just a getrustnantoxic0polar0.2889721989631653prosocia0.44447067379951477mltd40.319999999999986\n",
      "<p>test agaaiin</p>trustnantoxic0polar0.0prosocia0.0mltd4.48\n",
      "<p>we are now live atrustnantoxic0polar0.29267314076423645prosocia0.48924729228019714mltd9.819948186528496\n",
      "<p>test again</p>trustnantoxic0polar0.0prosocia0.0mltd4.48\n",
      "<p>adding a new commtrustnantoxic0polar0.3656350374221802prosocia0.4924781024456024mltd33.879999999999995\n",
      "<p>hä was zum fick etrustnantoxic2polar-0.0180012546479702prosocia0.0544448047876358mltd13.719999999999997\n",
      "<p>behinderte scheistrustnantoxic1polar0.13259746134281158prosocia0.1601768285036087mltd84.00000000000003\n",
      "<p>tsfdasdf</p>trustnantoxic0polar0.0prosocia0.0mltd3.0\n",
      "<p>more her fuck alltrustnantoxic6polar0.30506303906440735prosocia0.4961246848106384mltd17.92\n",
      "<p>yay i love all petrustnantoxic0polar0.222067728638649prosocia0.47748497128486633mltd13.719999999999997\n",
      "<p>nothing ever happtrustnantoxic0polar0.2844882309436798prosocia0.4156189560890198mltd7.000000000000002\n",
      "<p>we are back at tetrustnantoxic0polar0.22698093950748444prosocia0.35347163677215576mltd13.719999999999997\n",
      "<p>test yay yay yay trustnantoxic0polar0.1842336505651474prosocia0.26479896903038025mltd8.0\n",
      "<p>dingaosdjflkasjdftrustnantoxic1polar0.0prosocia0.0mltd3.0\n",
      "<p>once again</p>trustnantoxic0polar0.0prosocia0.0mltd4.48\n",
      "<p>tests</p>trustnantoxic0polar0.0prosocia0.0mltd3.0\n",
      "<p>asdfadsf</p>trustnantoxic0polar0.0prosocia0.0mltd3.0\n",
      "<p>asdfadsf</p>trustnantoxic0polar0.0prosocia0.0mltd3.0\n",
      "<p>asdfadsf</p>trustnantoxic0polar0.0prosocia0.0mltd3.0\n",
      "<p>asdfadsf</p>trustnantoxic0polar0.0prosocia0.0mltd3.0\n",
      "<p>asfddsa</p>trustnantoxic0polar0.0prosocia0.0mltd3.0\n",
      "<p>asdfasdf</p>trustnantoxic0polar0.0prosocia0.0mltd3.0\n",
      "<p>asdfadsf</p>trustnantoxic0polar0.0prosocia0.0mltd3.0\n",
      "<p>asdfasdfgfdsg</p>trustnantoxic0polar0.0prosocia0.0mltd3.0\n",
      "<p>afsdfadsf</p>trustnantoxic0polar0.0prosocia0.0mltd3.0\n",
      "<p>fasdfasdf</p>trustnantoxic0polar0.0prosocia0.0mltd3.0\n",
      "<p>asfdasdf</p>trustnantoxic0polar0.0prosocia0.0mltd3.0\n",
      "<p>asdfadsf</p>trustnantoxic0polar0.0prosocia0.0mltd3.0\n",
      "<p>fasdfadsfas</p>trustnantoxic0polar0.0prosocia0.0mltd3.0\n",
      "<p>adsfadsf</p>trustnantoxic0polar0.0prosocia0.0mltd3.0\n",
      "<p>dasfadsf</p>trustnantoxic0polar0.0prosocia0.0mltd3.0\n",
      "<p>asfdasdf</p>trustnantoxic0polar0.0prosocia0.0mltd3.0\n",
      "<p>adsfadsfads</p>trustnantoxic0polar0.0prosocia0.0mltd3.0\n",
      "<p>adsfadsf</p>trustnantoxic0polar0.0prosocia0.0mltd3.0\n",
      "<p>fasdfasdf</p>trustnantoxic0polar0.0prosocia0.0mltd3.0\n",
      "<p>asdfadsf</p>trustnantoxic0polar0.0prosocia0.0mltd3.0\n",
      "<p>asfddsfads</p>trustnantoxic0polar0.0prosocia0.0mltd3.0\n",
      "<p>sdfgadfgadsf</p>trustnantoxic0polar0.0prosocia0.0mltd3.0\n",
      "<p>afdsdfasdfdsavc</trustnantoxic0polar0.0prosocia0.0mltd3.0\n",
      "<p>htrh</p>trustnantoxic1polar0.0prosocia0.0mltd3.0\n",
      "<p>gfgfg</p>trustnantoxic0polar0.0prosocia0.0mltd3.0\n",
      "<p>asdjfaölkdsfj</p>trustnantoxic0polar0.0prosocia0.0mltd3.0\n",
      "<p>okay please be qutrustnantoxic0polar0.20104467868804932prosocia0.4481932520866394mltd10.080000000000004\n",
      "<p>processed commenttrustnantoxic0polar0.1771344244480133prosocia0.23667778074741364mltd7.000000000000002\n",
      "<p>fasdfasd</p>trustnantoxic0polar0.0prosocia0.0mltd3.0\n",
      "<p>processed commenttrustnantoxic0polar0.1771344244480133prosocia0.23667778074741364mltd7.000000000000002\n",
      "<p>test</p>trustnantoxic0polar0.0prosocia0.0mltd3.0\n",
      "<p>okay dies ist eintrustnantoxic1polar-0.043256405740976334prosocia-0.06672247499227524mltd41.15999999999999\n",
      "<p>die muslime sind trustnantoxic5polar0.08182583749294281prosocia0.1126784086227417mltd37.85600000000001\n",
      "<p>test again</p>trustnantoxic0polar0.0prosocia0.0mltd4.48\n",
      "<p>gafsfasdf asdfsdftrustnantoxic0polar0.0prosocia0.0mltd4.48\n",
      "<p>asdfasdf asdgsdfgtrustnantoxic4polar0.12031777948141098prosocia0.11316817253828049mltd20.160000000000007\n",
      "<p>asdfasdf</p>trustnantoxic0polar0.0prosocia0.0mltd3.0\n",
      "<p>fasdfasdf</p>trustnantoxic0polar0.0prosocia0.0mltd3.0\n",
      "<p>gafsdfasdf</p>trustnantoxic2polar0.0prosocia0.0mltd3.0\n",
      "<p>why are we rankintrustnantoxic1polar0.3716849088668823prosocia0.478593647480011mltd22.679999999999993\n",
      "<p>dieses ranking matrustnantoxic3polar-0.002094435505568981prosocia-0.01518142968416214mltd22.679999999999993\n",
      "<p>warum ist der rantrustnantoxic2polar0.046660568565130234prosocia0.05433375760912895mltd50.54000000000001\n",
      "<p>bitte nochmal rantrustnantoxic0polar0.03971041366457939prosocia0.07544734328985214mltd10.080000000000004\n",
      "<p>ok gut das war zutrustnantoxic0polar0.15169884264469147prosocia0.13637104630470276mltd33.879999999999995\n",
      "<p>astasdf</p>trustnantoxic0polar0.0prosocia0.0mltd3.0\n",
      "<p>asdfasdf</p>trustnantoxic0polar0.0prosocia0.0mltd3.0\n",
      "<p>asdfasdfasdf</p>trustnantoxic0polar0.0prosocia0.0mltd3.0\n",
      "<p>afsdfasd</p>trustnantoxic0polar0.0prosocia0.0mltd3.0\n",
      "<p>asdfasdf</p>trustnantoxic0polar0.0prosocia0.0mltd3.0\n",
      "<p>ja gut jz check itrustnantoxic1polar0.15655766427516937prosocia0.19388729333877563mltd28.000000000000007\n",
      "<p>ok mach nochmal ctrustnantoxic1polar0.04592663049697876prosocia0.05983112007379532mltd10.080000000000004\n",
      "<p>es wird immer strtrustnantoxic2polar0.23840560019016266prosocia0.4011455774307251mltd14.687272727272727\n",
      "<p>asdfasdf</p>trustnantoxic0polar0.0prosocia0.0mltd3.0\n",
      "<p>asdfasd</p>trustnantoxic2polar0.0prosocia0.0mltd3.0\n",
      "<p>fsadfsdf</p>trustnantoxic0polar0.0prosocia0.0mltd3.0\n",
      "<p>asdfasdf</p>trustnantoxic0polar0.0prosocia0.0mltd3.0\n"
     ]
    }
   ],
   "source": [
    "with open(\"tests/test_data/remark42_test_big.json\", 'r') as f:\n",
    "    comments_data = json.load(f)\n",
    "    #comments = Comments.model_validate_json(comments=comments_data)\n",
    "comments = parse_obj_as(Comments, comments_data)\n",
    "\n",
    "# Call the rank_comments method\n",
    "analyzed = ranker.return_analyzed(comments.comments)\n"
   ]
  },
  {
   "cell_type": "code",
   "execution_count": 10,
   "metadata": {},
   "outputs": [
    {
     "data": {
      "text/plain": [
       "(0,\n",
       " id                 7fe3b1f2-513b-4ece-927e-afef00de6d5e\n",
       " text                                        <p>test</p>\n",
       " url                                                 NaN\n",
       " domain                                              NaN\n",
       " trustworthiness                                     NaN\n",
       " toxicity                                              0\n",
       " polarization                                        0.0\n",
       " prosociality                                        0.0\n",
       " mtld                                                3.0\n",
       " Name: 0, dtype: object)"
      ]
     },
     "metadata": {},
     "output_type": "display_data"
    },
    {
     "data": {
      "text/plain": [
       "(1,\n",
       " id                 25214584-107c-4452-b300-2c277dc78dea\n",
       " text                             <p>ahh stupid shit</p>\n",
       " url                                                 NaN\n",
       " domain                                              NaN\n",
       " trustworthiness                                     NaN\n",
       " toxicity                                              1\n",
       " polarization                                   0.420833\n",
       " prosociality                                   0.335069\n",
       " mtld                                                7.0\n",
       " Name: 1, dtype: object)"
      ]
     },
     "metadata": {},
     "output_type": "display_data"
    },
    {
     "data": {
      "text/plain": [
       "(2,\n",
       " id                 99663780-7ff4-486b-bccd-695c4a8be3e5\n",
       " text                                       <p>deega</p>\n",
       " url                                                 NaN\n",
       " domain                                              NaN\n",
       " trustworthiness                                     NaN\n",
       " toxicity                                              0\n",
       " polarization                                        0.0\n",
       " prosociality                                        0.0\n",
       " mtld                                                3.0\n",
       " Name: 2, dtype: object)"
      ]
     },
     "metadata": {},
     "output_type": "display_data"
    },
    {
     "data": {
      "text/plain": [
       "(3,\n",
       " id                              6e7e56da-a89d-48f7-a952-5566f6985d8e\n",
       " text               <p>wieso is das kack ding doppelt</p>\\n\\n<p>as...\n",
       " url                                                              NaN\n",
       " domain                                                           NaN\n",
       " trustworthiness                                                  NaN\n",
       " toxicity                                                           1\n",
       " polarization                                                0.131853\n",
       " prosociality                                                0.194324\n",
       " mtld                                                        9.449136\n",
       " Name: 3, dtype: object)"
      ]
     },
     "metadata": {},
     "output_type": "display_data"
    },
    {
     "data": {
      "text/plain": [
       "(4,\n",
       " id                 4162bdb6-8ec3-44ad-86e4-e6df0f20d1e9\n",
       " text                                <p>scheissdreck</p>\n",
       " url                                                 NaN\n",
       " domain                                              NaN\n",
       " trustworthiness                                     NaN\n",
       " toxicity                                              0\n",
       " polarization                                        0.0\n",
       " prosociality                                        0.0\n",
       " mtld                                                3.0\n",
       " Name: 4, dtype: object)"
      ]
     },
     "metadata": {},
     "output_type": "display_data"
    },
    {
     "data": {
      "text/plain": [
       "(5,\n",
       " id                 ce99a4e4-ae12-431e-9225-8b11119d33f0\n",
       " text                       <p>griechen stinken alle</p>\n",
       " url                                                 NaN\n",
       " domain                                              NaN\n",
       " trustworthiness                                     NaN\n",
       " toxicity                                              3\n",
       " polarization                                   0.005994\n",
       " prosociality                                  -0.094738\n",
       " mtld                                                7.0\n",
       " Name: 5, dtype: object)"
      ]
     },
     "metadata": {},
     "output_type": "display_data"
    },
    {
     "data": {
      "text/plain": [
       "(6,\n",
       " id                              e0d09779-cbb2-4f78-9fbd-6902f0ca7f30\n",
       " text               <p>this is just a generic test for the comment...\n",
       " url                                                              NaN\n",
       " domain                                                           NaN\n",
       " trustworthiness                                                  NaN\n",
       " toxicity                                                           0\n",
       " polarization                                                0.288972\n",
       " prosociality                                                0.444471\n",
       " mtld                                                           40.32\n",
       " Name: 6, dtype: object)"
      ]
     },
     "metadata": {},
     "output_type": "display_data"
    },
    {
     "data": {
      "text/plain": [
       "(7,\n",
       " id                 26c6e7ed-26e7-4e1d-a068-8f853b2f36a7\n",
       " text                                <p>test agaaiin</p>\n",
       " url                                                 NaN\n",
       " domain                                              NaN\n",
       " trustworthiness                                     NaN\n",
       " toxicity                                              0\n",
       " polarization                                        0.0\n",
       " prosociality                                        0.0\n",
       " mtld                                               4.48\n",
       " Name: 7, dtype: object)"
      ]
     },
     "metadata": {},
     "output_type": "display_data"
    },
    {
     "data": {
      "text/plain": [
       "(8,\n",
       " id                              191aaeb7-726f-4587-a9cb-d4d5e953ff34\n",
       " text               <p>we are now live and testing once again and ...\n",
       " url                                                              NaN\n",
       " domain                                                           NaN\n",
       " trustworthiness                                                  NaN\n",
       " toxicity                                                           0\n",
       " polarization                                                0.292673\n",
       " prosociality                                                0.489247\n",
       " mtld                                                        9.819948\n",
       " Name: 8, dtype: object)"
      ]
     },
     "metadata": {},
     "output_type": "display_data"
    },
    {
     "data": {
      "text/plain": [
       "(9,\n",
       " id                 21153949-ebd9-4bac-9e8e-30c2da5e7f0f\n",
       " text                                  <p>test again</p>\n",
       " url                                                 NaN\n",
       " domain                                              NaN\n",
       " trustworthiness                                     NaN\n",
       " toxicity                                              0\n",
       " polarization                                        0.0\n",
       " prosociality                                        0.0\n",
       " mtld                                               4.48\n",
       " Name: 9, dtype: object)"
      ]
     },
     "metadata": {},
     "output_type": "display_data"
    },
    {
     "data": {
      "text/plain": [
       "(10,\n",
       " id                              7a0b46d0-eaa2-4d79-80b4-145c9de9e2b8\n",
       " text               <p>adding a new comment why are we ranking wro...\n",
       " url                                                              NaN\n",
       " domain                                                           NaN\n",
       " trustworthiness                                                  NaN\n",
       " toxicity                                                           0\n",
       " polarization                                                0.365635\n",
       " prosociality                                                0.492478\n",
       " mtld                                                           33.88\n",
       " Name: 10, dtype: object)"
      ]
     },
     "metadata": {},
     "output_type": "display_data"
    },
    {
     "data": {
      "text/plain": [
       "(11,\n",
       " id                 2e5ee5f1-cdb8-4644-b875-c96a58f10e44\n",
       " text                  <p>hä was zum fick eigentlich</p>\n",
       " url                                                 NaN\n",
       " domain                                              NaN\n",
       " trustworthiness                                     NaN\n",
       " toxicity                                              2\n",
       " polarization                                  -0.018001\n",
       " prosociality                                   0.054445\n",
       " mtld                                              13.72\n",
       " Name: 11, dtype: object)"
      ]
     },
     "metadata": {},
     "output_type": "display_data"
    },
    {
     "data": {
      "text/plain": [
       "(12,\n",
       " id                              384554c3-9328-4722-bb95-88f374b2f800\n",
       " text               <p>behinderte scheisse, ich schwöre manche men...\n",
       " url                                                              NaN\n",
       " domain                                                           NaN\n",
       " trustworthiness                                                  NaN\n",
       " toxicity                                                           1\n",
       " polarization                                                0.132597\n",
       " prosociality                                                0.160177\n",
       " mtld                                                            84.0\n",
       " Name: 12, dtype: object)"
      ]
     },
     "metadata": {},
     "output_type": "display_data"
    },
    {
     "data": {
      "text/plain": [
       "(13,\n",
       " id                 8536f9f9-ca92-460f-8f09-54a44236197c\n",
       " text                                    <p>tsfdasdf</p>\n",
       " url                                                 NaN\n",
       " domain                                              NaN\n",
       " trustworthiness                                     NaN\n",
       " toxicity                                              0\n",
       " polarization                                        0.0\n",
       " prosociality                                        0.0\n",
       " mtld                                                3.0\n",
       " Name: 13, dtype: object)"
      ]
     },
     "metadata": {},
     "output_type": "display_data"
    },
    {
     "data": {
      "text/plain": [
       "(14,\n",
       " id                      8b83c183-824c-4207-afbb-143f3ec17a8e\n",
       " text               <p>more her fuck all other ethnicites</p>\n",
       " url                                                      NaN\n",
       " domain                                                   NaN\n",
       " trustworthiness                                          NaN\n",
       " toxicity                                                   6\n",
       " polarization                                        0.305063\n",
       " prosociality                                        0.496125\n",
       " mtld                                                   17.92\n",
       " Name: 14, dtype: object)"
      ]
     },
     "metadata": {},
     "output_type": "display_data"
    },
    {
     "data": {
      "text/plain": [
       "(15,\n",
       " id                 4c93020f-6afe-4116-b88e-ac32156cd8c2\n",
       " text                     <p>yay i love all people!!</p>\n",
       " url                                                 NaN\n",
       " domain                                              NaN\n",
       " trustworthiness                                     NaN\n",
       " toxicity                                              0\n",
       " polarization                                   0.222068\n",
       " prosociality                                   0.477485\n",
       " mtld                                              13.72\n",
       " Name: 15, dtype: object)"
      ]
     },
     "metadata": {},
     "output_type": "display_data"
    },
    {
     "data": {
      "text/plain": [
       "(16,\n",
       " id                 4e98e4d9-b835-4e82-8f57-2f8ab71f2dc1\n",
       " text                        <p>nothing ever happens</p>\n",
       " url                                                 NaN\n",
       " domain                                              NaN\n",
       " trustworthiness                                     NaN\n",
       " toxicity                                              0\n",
       " polarization                                   0.284488\n",
       " prosociality                                   0.415619\n",
       " mtld                                                7.0\n",
       " Name: 16, dtype: object)"
      ]
     },
     "metadata": {},
     "output_type": "display_data"
    },
    {
     "data": {
      "text/plain": [
       "(17,\n",
       " id                 472ef964-8a16-40e1-850a-6abfedca4489\n",
       " text                      <p>we are back at testing</p>\n",
       " url                                                 NaN\n",
       " domain                                              NaN\n",
       " trustworthiness                                     NaN\n",
       " toxicity                                              0\n",
       " polarization                                   0.226981\n",
       " prosociality                                   0.353472\n",
       " mtld                                              13.72\n",
       " Name: 17, dtype: object)"
      ]
     },
     "metadata": {},
     "output_type": "display_data"
    },
    {
     "data": {
      "text/plain": [
       "(18,\n",
       " id                 95335501-832b-42bd-ac67-d2178222bdb3\n",
       " text                   <p>test yay yay yay fuck you</p>\n",
       " url                                                 NaN\n",
       " domain                                              NaN\n",
       " trustworthiness                                     NaN\n",
       " toxicity                                              0\n",
       " polarization                                   0.184234\n",
       " prosociality                                   0.264799\n",
       " mtld                                                8.0\n",
       " Name: 18, dtype: object)"
      ]
     },
     "metadata": {},
     "output_type": "display_data"
    },
    {
     "data": {
      "text/plain": [
       "(19,\n",
       " id                 de8bfba4-ee49-4a1b-a50d-8e8850cd85b8\n",
       " text                      <p>dingaosdjflkasjdffasdf</p>\n",
       " url                                                 NaN\n",
       " domain                                              NaN\n",
       " trustworthiness                                     NaN\n",
       " toxicity                                              1\n",
       " polarization                                        0.0\n",
       " prosociality                                        0.0\n",
       " mtld                                                3.0\n",
       " Name: 19, dtype: object)"
      ]
     },
     "metadata": {},
     "output_type": "display_data"
    },
    {
     "data": {
      "text/plain": [
       "(20,\n",
       " id                 8b84cbfe-3312-4342-bbfe-d65f2417a76b\n",
       " text                                  <p>once again</p>\n",
       " url                                                 NaN\n",
       " domain                                              NaN\n",
       " trustworthiness                                     NaN\n",
       " toxicity                                              0\n",
       " polarization                                        0.0\n",
       " prosociality                                        0.0\n",
       " mtld                                               4.48\n",
       " Name: 20, dtype: object)"
      ]
     },
     "metadata": {},
     "output_type": "display_data"
    },
    {
     "data": {
      "text/plain": [
       "(21,\n",
       " id                 f1674a8d-6292-40bc-9fae-7e128d143a7e\n",
       " text                                       <p>tests</p>\n",
       " url                                                 NaN\n",
       " domain                                              NaN\n",
       " trustworthiness                                     NaN\n",
       " toxicity                                              0\n",
       " polarization                                        0.0\n",
       " prosociality                                        0.0\n",
       " mtld                                                3.0\n",
       " Name: 21, dtype: object)"
      ]
     },
     "metadata": {},
     "output_type": "display_data"
    },
    {
     "data": {
      "text/plain": [
       "(22,\n",
       " id                 222b67a8-7f5e-42e3-b87b-d5b365afbd48\n",
       " text                                    <p>asdfadsf</p>\n",
       " url                                                 NaN\n",
       " domain                                              NaN\n",
       " trustworthiness                                     NaN\n",
       " toxicity                                              0\n",
       " polarization                                        0.0\n",
       " prosociality                                        0.0\n",
       " mtld                                                3.0\n",
       " Name: 22, dtype: object)"
      ]
     },
     "metadata": {},
     "output_type": "display_data"
    },
    {
     "data": {
      "text/plain": [
       "(23,\n",
       " id                 1cbb0c70-2502-4092-95ac-b45b71fba105\n",
       " text                                    <p>asdfadsf</p>\n",
       " url                                                 NaN\n",
       " domain                                              NaN\n",
       " trustworthiness                                     NaN\n",
       " toxicity                                              0\n",
       " polarization                                        0.0\n",
       " prosociality                                        0.0\n",
       " mtld                                                3.0\n",
       " Name: 23, dtype: object)"
      ]
     },
     "metadata": {},
     "output_type": "display_data"
    },
    {
     "data": {
      "text/plain": [
       "(24,\n",
       " id                 5447c34a-49ac-44e8-aea3-4a2dbf97b532\n",
       " text                                    <p>asdfadsf</p>\n",
       " url                                                 NaN\n",
       " domain                                              NaN\n",
       " trustworthiness                                     NaN\n",
       " toxicity                                              0\n",
       " polarization                                        0.0\n",
       " prosociality                                        0.0\n",
       " mtld                                                3.0\n",
       " Name: 24, dtype: object)"
      ]
     },
     "metadata": {},
     "output_type": "display_data"
    },
    {
     "data": {
      "text/plain": [
       "(25,\n",
       " id                 68522c6f-5547-486f-9b22-a9629338e949\n",
       " text                                    <p>asdfadsf</p>\n",
       " url                                                 NaN\n",
       " domain                                              NaN\n",
       " trustworthiness                                     NaN\n",
       " toxicity                                              0\n",
       " polarization                                        0.0\n",
       " prosociality                                        0.0\n",
       " mtld                                                3.0\n",
       " Name: 25, dtype: object)"
      ]
     },
     "metadata": {},
     "output_type": "display_data"
    },
    {
     "data": {
      "text/plain": [
       "(26,\n",
       " id                 30829be2-76ac-49cf-9d55-4acdc44b3b52\n",
       " text                                     <p>asfddsa</p>\n",
       " url                                                 NaN\n",
       " domain                                              NaN\n",
       " trustworthiness                                     NaN\n",
       " toxicity                                              0\n",
       " polarization                                        0.0\n",
       " prosociality                                        0.0\n",
       " mtld                                                3.0\n",
       " Name: 26, dtype: object)"
      ]
     },
     "metadata": {},
     "output_type": "display_data"
    },
    {
     "data": {
      "text/plain": [
       "(27,\n",
       " id                 f6ca3944-466b-4333-ba28-0862da73b782\n",
       " text                                    <p>asdfasdf</p>\n",
       " url                                                 NaN\n",
       " domain                                              NaN\n",
       " trustworthiness                                     NaN\n",
       " toxicity                                              0\n",
       " polarization                                        0.0\n",
       " prosociality                                        0.0\n",
       " mtld                                                3.0\n",
       " Name: 27, dtype: object)"
      ]
     },
     "metadata": {},
     "output_type": "display_data"
    },
    {
     "data": {
      "text/plain": [
       "(28,\n",
       " id                 cb721cac-9e8a-42e3-98d2-d49cea60324d\n",
       " text                                    <p>asdfadsf</p>\n",
       " url                                                 NaN\n",
       " domain                                              NaN\n",
       " trustworthiness                                     NaN\n",
       " toxicity                                              0\n",
       " polarization                                        0.0\n",
       " prosociality                                        0.0\n",
       " mtld                                                3.0\n",
       " Name: 28, dtype: object)"
      ]
     },
     "metadata": {},
     "output_type": "display_data"
    },
    {
     "data": {
      "text/plain": [
       "(29,\n",
       " id                 138e94ab-0b1d-4b81-834d-4dbd55269adf\n",
       " text                               <p>asdfasdfgfdsg</p>\n",
       " url                                                 NaN\n",
       " domain                                              NaN\n",
       " trustworthiness                                     NaN\n",
       " toxicity                                              0\n",
       " polarization                                        0.0\n",
       " prosociality                                        0.0\n",
       " mtld                                                3.0\n",
       " Name: 29, dtype: object)"
      ]
     },
     "metadata": {},
     "output_type": "display_data"
    },
    {
     "data": {
      "text/plain": [
       "(30,\n",
       " id                 36ed4ab3-0d6a-4be6-8ab7-c1ed3d006973\n",
       " text                                   <p>afsdfadsf</p>\n",
       " url                                                 NaN\n",
       " domain                                              NaN\n",
       " trustworthiness                                     NaN\n",
       " toxicity                                              0\n",
       " polarization                                        0.0\n",
       " prosociality                                        0.0\n",
       " mtld                                                3.0\n",
       " Name: 30, dtype: object)"
      ]
     },
     "metadata": {},
     "output_type": "display_data"
    },
    {
     "data": {
      "text/plain": [
       "(31,\n",
       " id                 2150057c-7d85-4f38-bb6f-e8ba3333587b\n",
       " text                                   <p>fasdfasdf</p>\n",
       " url                                                 NaN\n",
       " domain                                              NaN\n",
       " trustworthiness                                     NaN\n",
       " toxicity                                              0\n",
       " polarization                                        0.0\n",
       " prosociality                                        0.0\n",
       " mtld                                                3.0\n",
       " Name: 31, dtype: object)"
      ]
     },
     "metadata": {},
     "output_type": "display_data"
    },
    {
     "data": {
      "text/plain": [
       "(32,\n",
       " id                 e9d58d9d-a60b-4d55-947c-e332fb42ffdf\n",
       " text                                    <p>asfdasdf</p>\n",
       " url                                                 NaN\n",
       " domain                                              NaN\n",
       " trustworthiness                                     NaN\n",
       " toxicity                                              0\n",
       " polarization                                        0.0\n",
       " prosociality                                        0.0\n",
       " mtld                                                3.0\n",
       " Name: 32, dtype: object)"
      ]
     },
     "metadata": {},
     "output_type": "display_data"
    },
    {
     "data": {
      "text/plain": [
       "(33,\n",
       " id                 f5fed27c-27dd-4ed1-a488-cfff79d336fb\n",
       " text                                    <p>asdfadsf</p>\n",
       " url                                                 NaN\n",
       " domain                                              NaN\n",
       " trustworthiness                                     NaN\n",
       " toxicity                                              0\n",
       " polarization                                        0.0\n",
       " prosociality                                        0.0\n",
       " mtld                                                3.0\n",
       " Name: 33, dtype: object)"
      ]
     },
     "metadata": {},
     "output_type": "display_data"
    },
    {
     "data": {
      "text/plain": [
       "(34,\n",
       " id                 ec1a9f4d-573e-449e-b4f1-5810f9ed46fc\n",
       " text                                 <p>fasdfadsfas</p>\n",
       " url                                                 NaN\n",
       " domain                                              NaN\n",
       " trustworthiness                                     NaN\n",
       " toxicity                                              0\n",
       " polarization                                        0.0\n",
       " prosociality                                        0.0\n",
       " mtld                                                3.0\n",
       " Name: 34, dtype: object)"
      ]
     },
     "metadata": {},
     "output_type": "display_data"
    },
    {
     "data": {
      "text/plain": [
       "(35,\n",
       " id                 cb8f487e-f5a6-41cb-aaba-bdf2e3afa910\n",
       " text                                    <p>adsfadsf</p>\n",
       " url                                                 NaN\n",
       " domain                                              NaN\n",
       " trustworthiness                                     NaN\n",
       " toxicity                                              0\n",
       " polarization                                        0.0\n",
       " prosociality                                        0.0\n",
       " mtld                                                3.0\n",
       " Name: 35, dtype: object)"
      ]
     },
     "metadata": {},
     "output_type": "display_data"
    },
    {
     "data": {
      "text/plain": [
       "(36,\n",
       " id                 8712dc1f-3576-48e3-8cb3-1143dab971ed\n",
       " text                                    <p>dasfadsf</p>\n",
       " url                                                 NaN\n",
       " domain                                              NaN\n",
       " trustworthiness                                     NaN\n",
       " toxicity                                              0\n",
       " polarization                                        0.0\n",
       " prosociality                                        0.0\n",
       " mtld                                                3.0\n",
       " Name: 36, dtype: object)"
      ]
     },
     "metadata": {},
     "output_type": "display_data"
    },
    {
     "data": {
      "text/plain": [
       "(37,\n",
       " id                 14239251-ef30-4cff-8aa8-c0342c9f806e\n",
       " text                                    <p>asfdasdf</p>\n",
       " url                                                 NaN\n",
       " domain                                              NaN\n",
       " trustworthiness                                     NaN\n",
       " toxicity                                              0\n",
       " polarization                                        0.0\n",
       " prosociality                                        0.0\n",
       " mtld                                                3.0\n",
       " Name: 37, dtype: object)"
      ]
     },
     "metadata": {},
     "output_type": "display_data"
    },
    {
     "data": {
      "text/plain": [
       "(38,\n",
       " id                 7a2deaf3-46cb-4e39-bcc2-cbba795c9e85\n",
       " text                                 <p>adsfadsfads</p>\n",
       " url                                                 NaN\n",
       " domain                                              NaN\n",
       " trustworthiness                                     NaN\n",
       " toxicity                                              0\n",
       " polarization                                        0.0\n",
       " prosociality                                        0.0\n",
       " mtld                                                3.0\n",
       " Name: 38, dtype: object)"
      ]
     },
     "metadata": {},
     "output_type": "display_data"
    },
    {
     "data": {
      "text/plain": [
       "(39,\n",
       " id                 bd9e88ea-3dd2-44b0-94df-8039933177c2\n",
       " text                                    <p>adsfadsf</p>\n",
       " url                                                 NaN\n",
       " domain                                              NaN\n",
       " trustworthiness                                     NaN\n",
       " toxicity                                              0\n",
       " polarization                                        0.0\n",
       " prosociality                                        0.0\n",
       " mtld                                                3.0\n",
       " Name: 39, dtype: object)"
      ]
     },
     "metadata": {},
     "output_type": "display_data"
    },
    {
     "data": {
      "text/plain": [
       "(40,\n",
       " id                 6bb71ad8-5695-4b27-b5a2-cf48da0b13d2\n",
       " text                                   <p>fasdfasdf</p>\n",
       " url                                                 NaN\n",
       " domain                                              NaN\n",
       " trustworthiness                                     NaN\n",
       " toxicity                                              0\n",
       " polarization                                        0.0\n",
       " prosociality                                        0.0\n",
       " mtld                                                3.0\n",
       " Name: 40, dtype: object)"
      ]
     },
     "metadata": {},
     "output_type": "display_data"
    },
    {
     "data": {
      "text/plain": [
       "(41,\n",
       " id                 5096aa0c-32f3-4ba9-8c08-2335f60b1d1c\n",
       " text                                    <p>asdfadsf</p>\n",
       " url                                                 NaN\n",
       " domain                                              NaN\n",
       " trustworthiness                                     NaN\n",
       " toxicity                                              0\n",
       " polarization                                        0.0\n",
       " prosociality                                        0.0\n",
       " mtld                                                3.0\n",
       " Name: 41, dtype: object)"
      ]
     },
     "metadata": {},
     "output_type": "display_data"
    },
    {
     "data": {
      "text/plain": [
       "(42,\n",
       " id                 992b4ebf-61e8-44a5-bfda-7be6011f231c\n",
       " text                                  <p>asfddsfads</p>\n",
       " url                                                 NaN\n",
       " domain                                              NaN\n",
       " trustworthiness                                     NaN\n",
       " toxicity                                              0\n",
       " polarization                                        0.0\n",
       " prosociality                                        0.0\n",
       " mtld                                                3.0\n",
       " Name: 42, dtype: object)"
      ]
     },
     "metadata": {},
     "output_type": "display_data"
    },
    {
     "data": {
      "text/plain": [
       "(43,\n",
       " id                 d5355b79-d7f2-473f-a8f3-fb4dc25828b2\n",
       " text                                <p>sdfgadfgadsf</p>\n",
       " url                                                 NaN\n",
       " domain                                              NaN\n",
       " trustworthiness                                     NaN\n",
       " toxicity                                              0\n",
       " polarization                                        0.0\n",
       " prosociality                                        0.0\n",
       " mtld                                                3.0\n",
       " Name: 43, dtype: object)"
      ]
     },
     "metadata": {},
     "output_type": "display_data"
    },
    {
     "data": {
      "text/plain": [
       "(44,\n",
       " id                 2d56ff79-b572-4559-9921-95acf1814876\n",
       " text                             <p>afdsdfasdfdsavc</p>\n",
       " url                                                 NaN\n",
       " domain                                              NaN\n",
       " trustworthiness                                     NaN\n",
       " toxicity                                              0\n",
       " polarization                                        0.0\n",
       " prosociality                                        0.0\n",
       " mtld                                                3.0\n",
       " Name: 44, dtype: object)"
      ]
     },
     "metadata": {},
     "output_type": "display_data"
    },
    {
     "data": {
      "text/plain": [
       "(45,\n",
       " id                 67dc9e7b-1e2a-4134-bb19-f615102592ae\n",
       " text                                        <p>htrh</p>\n",
       " url                                                 NaN\n",
       " domain                                              NaN\n",
       " trustworthiness                                     NaN\n",
       " toxicity                                              1\n",
       " polarization                                        0.0\n",
       " prosociality                                        0.0\n",
       " mtld                                                3.0\n",
       " Name: 45, dtype: object)"
      ]
     },
     "metadata": {},
     "output_type": "display_data"
    },
    {
     "data": {
      "text/plain": [
       "(46,\n",
       " id                 ca7c8ea4-6dcf-4532-a7b7-b583a18416bf\n",
       " text                                       <p>gfgfg</p>\n",
       " url                                                 NaN\n",
       " domain                                              NaN\n",
       " trustworthiness                                     NaN\n",
       " toxicity                                              0\n",
       " polarization                                        0.0\n",
       " prosociality                                        0.0\n",
       " mtld                                                3.0\n",
       " Name: 46, dtype: object)"
      ]
     },
     "metadata": {},
     "output_type": "display_data"
    },
    {
     "data": {
      "text/plain": [
       "(47,\n",
       " id                 1f2c5528-45f3-4cd0-a687-70e010d9e4b4\n",
       " text                               <p>asdjfaölkdsfj</p>\n",
       " url                                                 NaN\n",
       " domain                                              NaN\n",
       " trustworthiness                                     NaN\n",
       " toxicity                                              0\n",
       " polarization                                        0.0\n",
       " prosociality                                        0.0\n",
       " mtld                                                3.0\n",
       " Name: 47, dtype: object)"
      ]
     },
     "metadata": {},
     "output_type": "display_data"
    },
    {
     "data": {
      "text/plain": [
       "(48,\n",
       " id                 2f98d3fa-2dd7-4046-babd-93524bc69cd1\n",
       " text                        <p>okay please be quick</p>\n",
       " url                                                 NaN\n",
       " domain                                              NaN\n",
       " trustworthiness                                     NaN\n",
       " toxicity                                              0\n",
       " polarization                                   0.201045\n",
       " prosociality                                   0.448193\n",
       " mtld                                              10.08\n",
       " Name: 48, dtype: object)"
      ]
     },
     "metadata": {},
     "output_type": "display_data"
    },
    {
     "data": {
      "text/plain": [
       "(49,\n",
       " id                 30a84166-24aa-4ca0-ac06-d93260a68680\n",
       " text                      <p>processed comment text</p>\n",
       " url                                                 NaN\n",
       " domain                                              NaN\n",
       " trustworthiness                                     NaN\n",
       " toxicity                                              0\n",
       " polarization                                   0.177134\n",
       " prosociality                                   0.236678\n",
       " mtld                                                7.0\n",
       " Name: 49, dtype: object)"
      ]
     },
     "metadata": {},
     "output_type": "display_data"
    },
    {
     "data": {
      "text/plain": [
       "(50,\n",
       " id                 3e5a475f-b15c-468c-96a3-9af5728e899d\n",
       " text                                    <p>fasdfasd</p>\n",
       " url                                                 NaN\n",
       " domain                                              NaN\n",
       " trustworthiness                                     NaN\n",
       " toxicity                                              0\n",
       " polarization                                        0.0\n",
       " prosociality                                        0.0\n",
       " mtld                                                3.0\n",
       " Name: 50, dtype: object)"
      ]
     },
     "metadata": {},
     "output_type": "display_data"
    },
    {
     "data": {
      "text/plain": [
       "(51,\n",
       " id                 e0524023-c369-400d-98d3-73bf466369e3\n",
       " text                      <p>processed comment text</p>\n",
       " url                                                 NaN\n",
       " domain                                              NaN\n",
       " trustworthiness                                     NaN\n",
       " toxicity                                              0\n",
       " polarization                                   0.177134\n",
       " prosociality                                   0.236678\n",
       " mtld                                                7.0\n",
       " Name: 51, dtype: object)"
      ]
     },
     "metadata": {},
     "output_type": "display_data"
    },
    {
     "data": {
      "text/plain": [
       "(52,\n",
       " id                 c458b0c5-e1ad-4d38-ada4-c72383cd84bd\n",
       " text                                        <p>test</p>\n",
       " url                                                 NaN\n",
       " domain                                              NaN\n",
       " trustworthiness                                     NaN\n",
       " toxicity                                              0\n",
       " polarization                                        0.0\n",
       " prosociality                                        0.0\n",
       " mtld                                                3.0\n",
       " Name: 52, dtype: object)"
      ]
     },
     "metadata": {},
     "output_type": "display_data"
    },
    {
     "data": {
      "text/plain": [
       "(53,\n",
       " id                              a295b920-d798-450b-9798-e5cdadbb702d\n",
       " text               <p>okay dies ist ein langes kommentar mit kein...\n",
       " url                                                              NaN\n",
       " domain                                                           NaN\n",
       " trustworthiness                                                  NaN\n",
       " toxicity                                                           1\n",
       " polarization                                               -0.043256\n",
       " prosociality                                               -0.066722\n",
       " mtld                                                           41.16\n",
       " Name: 53, dtype: object)"
      ]
     },
     "metadata": {},
     "output_type": "display_data"
    },
    {
     "data": {
      "text/plain": [
       "(54,\n",
       " id                              06250587-662d-4523-ba9c-b8a21e9b2cda\n",
       " text               <p>die muslime sind alle nur attentäter, die v...\n",
       " url                                                              NaN\n",
       " domain                                                           NaN\n",
       " trustworthiness                                                  NaN\n",
       " toxicity                                                           5\n",
       " polarization                                                0.081826\n",
       " prosociality                                                0.112678\n",
       " mtld                                                          37.856\n",
       " Name: 54, dtype: object)"
      ]
     },
     "metadata": {},
     "output_type": "display_data"
    },
    {
     "data": {
      "text/plain": [
       "(55,\n",
       " id                 335b882e-44f0-4e9d-a36c-d69d605b89c6\n",
       " text                                  <p>test again</p>\n",
       " url                                                 NaN\n",
       " domain                                              NaN\n",
       " trustworthiness                                     NaN\n",
       " toxicity                                              0\n",
       " polarization                                        0.0\n",
       " prosociality                                        0.0\n",
       " mtld                                               4.48\n",
       " Name: 55, dtype: object)"
      ]
     },
     "metadata": {},
     "output_type": "display_data"
    },
    {
     "data": {
      "text/plain": [
       "(56,\n",
       " id                 dbe8e6b5-2816-42d4-a35a-822ce28986f0\n",
       " text                        <p>gafsfasdf asdfsdfasd</p>\n",
       " url                                                 NaN\n",
       " domain                                              NaN\n",
       " trustworthiness                                     NaN\n",
       " toxicity                                              0\n",
       " polarization                                        0.0\n",
       " prosociality                                        0.0\n",
       " mtld                                               4.48\n",
       " Name: 56, dtype: object)"
      ]
     },
     "metadata": {},
     "output_type": "display_data"
    },
    {
     "data": {
      "text/plain": [
       "(57,\n",
       " id                              da9d3596-ca6c-450b-92a4-b2a4b1d0e1e8\n",
       " text               <p>asdfasdf asdgsdfgsdfh ich hasse die linksli...\n",
       " url                                                              NaN\n",
       " domain                                                           NaN\n",
       " trustworthiness                                                  NaN\n",
       " toxicity                                                           4\n",
       " polarization                                                0.120318\n",
       " prosociality                                                0.113168\n",
       " mtld                                                           20.16\n",
       " Name: 57, dtype: object)"
      ]
     },
     "metadata": {},
     "output_type": "display_data"
    },
    {
     "data": {
      "text/plain": [
       "(58,\n",
       " id                 9830f211-a4bb-401f-ab0f-b2e641e0115c\n",
       " text                                    <p>asdfasdf</p>\n",
       " url                                                 NaN\n",
       " domain                                              NaN\n",
       " trustworthiness                                     NaN\n",
       " toxicity                                              0\n",
       " polarization                                        0.0\n",
       " prosociality                                        0.0\n",
       " mtld                                                3.0\n",
       " Name: 58, dtype: object)"
      ]
     },
     "metadata": {},
     "output_type": "display_data"
    },
    {
     "data": {
      "text/plain": [
       "(59,\n",
       " id                 cae42ed5-17fb-4395-8809-82948e4355f7\n",
       " text                                   <p>fasdfasdf</p>\n",
       " url                                                 NaN\n",
       " domain                                              NaN\n",
       " trustworthiness                                     NaN\n",
       " toxicity                                              0\n",
       " polarization                                        0.0\n",
       " prosociality                                        0.0\n",
       " mtld                                                3.0\n",
       " Name: 59, dtype: object)"
      ]
     },
     "metadata": {},
     "output_type": "display_data"
    },
    {
     "data": {
      "text/plain": [
       "(60,\n",
       " id                 6d79dea2-298a-45b7-bc58-f771e90235bc\n",
       " text                                  <p>gafsdfasdf</p>\n",
       " url                                                 NaN\n",
       " domain                                              NaN\n",
       " trustworthiness                                     NaN\n",
       " toxicity                                              2\n",
       " polarization                                        0.0\n",
       " prosociality                                        0.0\n",
       " mtld                                                3.0\n",
       " Name: 60, dtype: object)"
      ]
     },
     "metadata": {},
     "output_type": "display_data"
    },
    {
     "data": {
      "text/plain": [
       "(61,\n",
       " id                          a0642d26-7a67-440f-82f8-a8a8ab29ec6b\n",
       " text               <p>why are we ranking this fucking shitty</p>\n",
       " url                                                          NaN\n",
       " domain                                                       NaN\n",
       " trustworthiness                                              NaN\n",
       " toxicity                                                       1\n",
       " polarization                                            0.371685\n",
       " prosociality                                            0.478594\n",
       " mtld                                                       22.68\n",
       " Name: 61, dtype: object)"
      ]
     },
     "metadata": {},
     "output_type": "display_data"
    },
    {
     "data": {
      "text/plain": [
       "(62,\n",
       " id                              5e7c6bd7-f693-4285-88ac-70fad4b55deb\n",
       " text               <p>dieses ranking macht keinen sinn ihr idiote...\n",
       " url                                                              NaN\n",
       " domain                                                           NaN\n",
       " trustworthiness                                                  NaN\n",
       " toxicity                                                           3\n",
       " polarization                                               -0.002094\n",
       " prosociality                                               -0.015181\n",
       " mtld                                                           22.68\n",
       " Name: 62, dtype: object)"
      ]
     },
     "metadata": {},
     "output_type": "display_data"
    },
    {
     "data": {
      "text/plain": [
       "(63,\n",
       " id                              f95507fe-5ec0-4598-b214-a673cf610084\n",
       " text               <p>warum ist der ranker so schlecht das kann j...\n",
       " url                                                              NaN\n",
       " domain                                                           NaN\n",
       " trustworthiness                                                  NaN\n",
       " toxicity                                                           2\n",
       " polarization                                                0.046661\n",
       " prosociality                                                0.054334\n",
       " mtld                                                           50.54\n",
       " Name: 63, dtype: object)"
      ]
     },
     "metadata": {},
     "output_type": "display_data"
    },
    {
     "data": {
      "text/plain": [
       "(64,\n",
       " id                 2fac9f6c-380f-44ca-b9df-69260171a21c\n",
       " text                  <p>bitte nochmal ranken danke</p>\n",
       " url                                                 NaN\n",
       " domain                                              NaN\n",
       " trustworthiness                                     NaN\n",
       " toxicity                                              0\n",
       " polarization                                    0.03971\n",
       " prosociality                                   0.075447\n",
       " mtld                                              10.08\n",
       " Name: 64, dtype: object)"
      ]
     },
     "metadata": {},
     "output_type": "display_data"
    },
    {
     "data": {
      "text/plain": [
       "(65,\n",
       " id                              d90e6be4-9a0a-4854-84ce-bf604d323c98\n",
       " text               <p>ok gut das war zu früh nochmal bitte danke</p>\n",
       " url                                                              NaN\n",
       " domain                                                           NaN\n",
       " trustworthiness                                                  NaN\n",
       " toxicity                                                           0\n",
       " polarization                                                0.151699\n",
       " prosociality                                                0.136371\n",
       " mtld                                                           33.88\n",
       " Name: 65, dtype: object)"
      ]
     },
     "metadata": {},
     "output_type": "display_data"
    },
    {
     "data": {
      "text/plain": [
       "(66,\n",
       " id                 380dd503-5bf4-428d-8315-1cabcf3c5f4d\n",
       " text                                     <p>astasdf</p>\n",
       " url                                                 NaN\n",
       " domain                                              NaN\n",
       " trustworthiness                                     NaN\n",
       " toxicity                                              0\n",
       " polarization                                        0.0\n",
       " prosociality                                        0.0\n",
       " mtld                                                3.0\n",
       " Name: 66, dtype: object)"
      ]
     },
     "metadata": {},
     "output_type": "display_data"
    },
    {
     "data": {
      "text/plain": [
       "(67,\n",
       " id                 7df2e0c7-5f1a-4fe9-b09c-c299494f35c2\n",
       " text                                    <p>asdfasdf</p>\n",
       " url                                                 NaN\n",
       " domain                                              NaN\n",
       " trustworthiness                                     NaN\n",
       " toxicity                                              0\n",
       " polarization                                        0.0\n",
       " prosociality                                        0.0\n",
       " mtld                                                3.0\n",
       " Name: 67, dtype: object)"
      ]
     },
     "metadata": {},
     "output_type": "display_data"
    },
    {
     "data": {
      "text/plain": [
       "(68,\n",
       " id                 c36d9679-7996-41a4-9c19-217da964b4a0\n",
       " text                                <p>asdfasdfasdf</p>\n",
       " url                                                 NaN\n",
       " domain                                              NaN\n",
       " trustworthiness                                     NaN\n",
       " toxicity                                              0\n",
       " polarization                                        0.0\n",
       " prosociality                                        0.0\n",
       " mtld                                                3.0\n",
       " Name: 68, dtype: object)"
      ]
     },
     "metadata": {},
     "output_type": "display_data"
    },
    {
     "data": {
      "text/plain": [
       "(69,\n",
       " id                 9bd47a4a-071b-4c8e-8497-1c5125af6fae\n",
       " text                                    <p>afsdfasd</p>\n",
       " url                                                 NaN\n",
       " domain                                              NaN\n",
       " trustworthiness                                     NaN\n",
       " toxicity                                              0\n",
       " polarization                                        0.0\n",
       " prosociality                                        0.0\n",
       " mtld                                                3.0\n",
       " Name: 69, dtype: object)"
      ]
     },
     "metadata": {},
     "output_type": "display_data"
    },
    {
     "data": {
      "text/plain": [
       "(70,\n",
       " id                 9382560c-b473-434f-910b-7391a9d76381\n",
       " text                                    <p>asdfasdf</p>\n",
       " url                                                 NaN\n",
       " domain                                              NaN\n",
       " trustworthiness                                     NaN\n",
       " toxicity                                              0\n",
       " polarization                                        0.0\n",
       " prosociality                                        0.0\n",
       " mtld                                                3.0\n",
       " Name: 70, dtype: object)"
      ]
     },
     "metadata": {},
     "output_type": "display_data"
    },
    {
     "data": {
      "text/plain": [
       "(71,\n",
       " id                    5075027c-ad97-4b22-95fb-6000684952fb\n",
       " text               <p>ja gut jz check ich gar nix mehr</p>\n",
       " url                                                    NaN\n",
       " domain                                                 NaN\n",
       " trustworthiness                                        NaN\n",
       " toxicity                                                 1\n",
       " polarization                                      0.156558\n",
       " prosociality                                      0.193887\n",
       " mtld                                                  28.0\n",
       " Name: 71, dtype: object)"
      ]
     },
     "metadata": {},
     "output_type": "display_data"
    },
    {
     "data": {
      "text/plain": [
       "(72,\n",
       " id                 28514555-1d29-45d2-9b7f-324486283303\n",
       " text                        <p>ok mach nochmal chef</p>\n",
       " url                                                 NaN\n",
       " domain                                              NaN\n",
       " trustworthiness                                     NaN\n",
       " toxicity                                              1\n",
       " polarization                                   0.045927\n",
       " prosociality                                   0.059831\n",
       " mtld                                              10.08\n",
       " Name: 72, dtype: object)"
      ]
     },
     "metadata": {},
     "output_type": "display_data"
    },
    {
     "data": {
      "text/plain": [
       "(73,\n",
       " id                              7a469628-0fb2-4ea4-8c90-c27883ff719f\n",
       " text               <p>es wird immer stranger</p>\\n\\n<p>wtf man fu...\n",
       " url                                                              NaN\n",
       " domain                                                           NaN\n",
       " trustworthiness                                                  NaN\n",
       " toxicity                                                           2\n",
       " polarization                                                0.238406\n",
       " prosociality                                                0.401146\n",
       " mtld                                                       14.687273\n",
       " Name: 73, dtype: object)"
      ]
     },
     "metadata": {},
     "output_type": "display_data"
    },
    {
     "data": {
      "text/plain": [
       "(74,\n",
       " id                 eecf21bb-3006-4210-afb8-160affa52a86\n",
       " text                                    <p>asdfasdf</p>\n",
       " url                                                 NaN\n",
       " domain                                              NaN\n",
       " trustworthiness                                     NaN\n",
       " toxicity                                              0\n",
       " polarization                                        0.0\n",
       " prosociality                                        0.0\n",
       " mtld                                                3.0\n",
       " Name: 74, dtype: object)"
      ]
     },
     "metadata": {},
     "output_type": "display_data"
    },
    {
     "data": {
      "text/plain": [
       "(75,\n",
       " id                 162a9f69-bdf7-4570-a928-93521499c146\n",
       " text                                     <p>asdfasd</p>\n",
       " url                                                 NaN\n",
       " domain                                              NaN\n",
       " trustworthiness                                     NaN\n",
       " toxicity                                              2\n",
       " polarization                                        0.0\n",
       " prosociality                                        0.0\n",
       " mtld                                                3.0\n",
       " Name: 75, dtype: object)"
      ]
     },
     "metadata": {},
     "output_type": "display_data"
    },
    {
     "data": {
      "text/plain": [
       "(76,\n",
       " id                 08d23b7b-0de8-4bcc-825e-a01dcdebe549\n",
       " text                                    <p>fsadfsdf</p>\n",
       " url                                                 NaN\n",
       " domain                                              NaN\n",
       " trustworthiness                                     NaN\n",
       " toxicity                                              0\n",
       " polarization                                        0.0\n",
       " prosociality                                        0.0\n",
       " mtld                                                3.0\n",
       " Name: 76, dtype: object)"
      ]
     },
     "metadata": {},
     "output_type": "display_data"
    },
    {
     "data": {
      "text/plain": [
       "(77,\n",
       " id                 9e7d11b1-8225-42a9-9533-23a239298e1d\n",
       " text                                    <p>asdfasdf</p>\n",
       " url                                                 NaN\n",
       " domain                                              NaN\n",
       " trustworthiness                                     NaN\n",
       " toxicity                                              0\n",
       " polarization                                        0.0\n",
       " prosociality                                        0.0\n",
       " mtld                                                3.0\n",
       " Name: 77, dtype: object)"
      ]
     },
     "metadata": {},
     "output_type": "display_data"
    }
   ],
   "source": [
    "for comment in analyzed.iterrows():\n",
    "  display(comment)"
   ]
  },
  {
   "cell_type": "code",
   "execution_count": 8,
   "metadata": {},
   "outputs": [
    {
     "name": "stdout",
     "output_type": "stream",
     "text": [
      "<p>test</p>\n",
      "<p>ahh stupid shit</p>\n",
      "<p>deega</p>\n",
      "<p>wieso is das kack ding doppelt</p>\n",
      "\n",
      "<p>asdfasldjflkadsjflkjdsaf</p>\n",
      "<p>scheissdreck</p>\n",
      "<p>griechen stinken alle</p>\n",
      "<p>this is just a generic test for the comment features</p>\n",
      "<p>test agaaiin</p>\n",
      "<p>we are now live and testing once again and for all and for ever and ever</p>\n",
      "\n",
      "<p>yay</p>\n",
      "<p>test again</p>\n",
      "<p>adding a new comment why are we ranking wrong??</p>\n",
      "<p>hä was zum fick eigentlich</p>\n",
      "<p>behinderte scheisse, ich schwöre manche menschen sind so dumm, ich hasse am allermesiten alle anderen rassen und ich bin ausserdem mieser frauenhasser frauen zruck an den herd olta</p>\n",
      "<p>tsfdasdf</p>\n",
      "<p>more her fuck all other ethnicites</p>\n",
      "<p>yay i love all people!!</p>\n",
      "<p>nothing ever happens</p>\n",
      "<p>we are back at testing</p>\n",
      "<p>test yay yay yay fuck you</p>\n",
      "<p>dingaosdjflkasjdffasdf</p>\n",
      "<p>once again</p>\n",
      "<p>tests</p>\n",
      "<p>asdfadsf</p>\n",
      "<p>asdfadsf</p>\n",
      "<p>asdfadsf</p>\n",
      "<p>asdfadsf</p>\n",
      "<p>asfddsa</p>\n",
      "<p>asdfasdf</p>\n",
      "<p>asdfadsf</p>\n",
      "<p>asdfasdfgfdsg</p>\n",
      "<p>afsdfadsf</p>\n",
      "<p>fasdfasdf</p>\n",
      "<p>asfdasdf</p>\n",
      "<p>asdfadsf</p>\n",
      "<p>fasdfadsfas</p>\n",
      "<p>adsfadsf</p>\n",
      "<p>dasfadsf</p>\n",
      "<p>asfdasdf</p>\n",
      "<p>adsfadsfads</p>\n",
      "<p>adsfadsf</p>\n",
      "<p>fasdfasdf</p>\n",
      "<p>asdfadsf</p>\n",
      "<p>asfddsfads</p>\n",
      "<p>sdfgadfgadsf</p>\n",
      "<p>afdsdfasdfdsavc</p>\n",
      "<p>htrh</p>\n",
      "<p>gfgfg</p>\n",
      "<p>asdjfaölkdsfj</p>\n",
      "<p>okay please be quick</p>\n",
      "<p>processed comment text</p>\n",
      "<p>fasdfasd</p>\n",
      "<p>processed comment text</p>\n",
      "<p>test</p>\n",
      "<p>okay dies ist ein langes kommentar mit keinen polarisierenden meinungen, sondern einfach nur ein längeres kommentar zum testen juhu</p>\n",
      "<p>die muslime sind alle nur attentäter, die vergewaltigen wie sie wollen, die isis ist sowieso bald am übernehmen und die welt geht bald unter</p>\n",
      "<p>test again</p>\n",
      "<p>gafsfasdf asdfsdfasd</p>\n",
      "<p>asdfasdf asdgsdfgsdfh ich hasse die linkslinken zecken die globalen klimaverschwörer</p>\n",
      "<p>asdfasdf</p>\n",
      "<p>fasdfasdf</p>\n",
      "<p>gafsdfasdf</p>\n",
      "<p>why are we ranking this fucking shitty</p>\n",
      "<p>dieses ranking macht keinen sinn ihr idioten</p>\n",
      "<p>warum ist der ranker so schlecht das kann ja nich tsein welcher dummkopf hat das gemacht bitte</p>\n",
      "<p>bitte nochmal ranken danke</p>\n",
      "<p>ok gut das war zu früh nochmal bitte danke</p>\n",
      "<p>astasdf</p>\n",
      "<p>asdfasdf</p>\n",
      "<p>asdfasdfasdf</p>\n",
      "<p>afsdfasd</p>\n",
      "<p>asdfasdf</p>\n",
      "<p>ja gut jz check ich gar nix mehr</p>\n",
      "<p>ok mach nochmal chef</p>\n",
      "<p>es wird immer stranger</p>\n",
      "\n",
      "<p>wtf man fuck you and fuck this system</p>\n",
      "<p>asdfasdf</p>\n",
      "<p>asdfasd</p>\n",
      "<p>fsadfsdf</p>\n",
      "<p>asdfasdf</p>\n"
     ]
    }
   ],
   "source": [
    "#print all texts\n",
    "for comment in analyzed[\"text\"]:\n",
    "    print(comment)"
   ]
  },
  {
   "cell_type": "code",
   "execution_count": null,
   "metadata": {},
   "outputs": [],
   "source": []
  }
 ],
 "metadata": {
  "kernelspec": {
   "display_name": "ranker",
   "language": "python",
   "name": "python3"
  },
  "language_info": {
   "codemirror_mode": {
    "name": "ipython",
    "version": 3
   },
   "file_extension": ".py",
   "mimetype": "text/x-python",
   "name": "python",
   "nbconvert_exporter": "python",
   "pygments_lexer": "ipython3",
   "version": "3.11.11"
  }
 },
 "nbformat": 4,
 "nbformat_minor": 2
}
