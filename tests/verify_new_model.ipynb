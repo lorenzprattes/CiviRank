{
 "cells": [
  {
   "cell_type": "code",
   "execution_count": 1,
   "metadata": {},
   "outputs": [
    {
     "name": "stderr",
     "output_type": "stream",
     "text": [
      "c:\\Users\\Joao\\miniconda3\\envs\\ranker\\Lib\\site-packages\\sentence_transformers\\cross_encoder\\CrossEncoder.py:11: TqdmWarning: IProgress not found. Please update jupyter and ipywidgets. See https://ipywidgets.readthedocs.io/en/stable/user_install.html\n",
      "  from tqdm.autonotebook import tqdm, trange\n"
     ]
    }
   ],
   "source": [
    "from civirank import analyzers, parsers, rankers\n",
    "\n",
    "import json\n",
    "import numpy as np\n",
    "\n",
    "import time\n",
    "import pickle\n",
    "\n",
    "import warnings\n",
    "with warnings.catch_warnings():\n",
    "    warnings.simplefilter(action='ignore', category=FutureWarning)"
   ]
  },
  {
   "cell_type": "code",
   "execution_count": 2,
   "metadata": {},
   "outputs": [],
   "source": [
    "# load sample data\n",
    "fname = \"twitter_test.json\"\n",
    "with open(fname, \"r\") as fin:\n",
    "    sample_data_twitter = json.load(fin)\n",
    "fname = \"reddit_test.json\"\n",
    "with open(fname, \"r\") as fin:\n",
    "    sample_data_reddit = json.load(fin)\n",
    "fname = \"facebook_test.json\"\n",
    "with open(fname, \"r\") as fin:\n",
    "    sample_data_facebook = json.load(fin)"
   ]
  },
  {
   "cell_type": "code",
   "execution_count": 3,
   "metadata": {},
   "outputs": [
    {
     "name": "stderr",
     "output_type": "stream",
     "text": [
      "c:\\Users\\Joao\\miniconda3\\envs\\ranker\\Lib\\site-packages\\huggingface_hub\\file_download.py:1132: FutureWarning: `resume_download` is deprecated and will be removed in version 1.0.0. Downloads always resume when possible. If you want to force a new download, use `force_download=True`.\n",
      "  warnings.warn(\n"
     ]
    },
    {
     "name": "stdout",
     "output_type": "stream",
     "text": [
      "15 posts not in English.\n",
      "lang\n",
      "en    185\n",
      "ko      5\n",
      "yu      5\n",
      "de      1\n",
      "wa      1\n",
      "vi      1\n",
      "it      1\n",
      "sp      1\n",
      "Name: count, dtype: int64\n",
      "[0.9995612805681291, 1.0, 0.9997456437326715, 0.9934629510976958, 0.9939350833067961, 1.0, 0.9995361457008949, 0.9994843811404859, 0.9924852218436508, 0.9008271329762769, 0.9998775100338178, 0.9010126684630508, 0.9990526062806178, 0.9994195384172144, nan, 0.9968365202718341, 0.9995662490376089, 0.9994305573726447, 0.9999142306579318, 1.0, 0.9884223446682958, 0.9455267439220882, 1.0, 0.8325220448242094, 0.9999734588418843, nan, 0.7167081920408354, 0.9998393281090387, 0.7676876141005595, 1.0, nan, 1.0, 0.9995612805681291, 0.9971653142199712, nan, nan, 1.0, 0.9999598741994595, 0.9977562002747757, 0.9803710041529512, nan, 0.998759353020348, 0.9999632901771631, 0.8880424248799985, 0.9991275699777251, 0.9968365202718341, 0.9965457668874982, 0.8917292986165837, nan, 0.9939350833067961]\n"
     ]
    }
   ],
   "source": [
    "#new onnxfp16, recheck\n",
    "v = rankers.LocalRanker(debug=True)\n",
    "df = v.rank(sample_data_facebook)\n",
    "print(df['no_toxicity'][:50].tolist())"
   ]
  },
  {
   "cell_type": "code",
   "execution_count": 7,
   "metadata": {},
   "outputs": [
    {
     "name": "stderr",
     "output_type": "stream",
     "text": [
      "c:\\Users\\Joao\\miniconda3\\envs\\ranker\\Lib\\site-packages\\huggingface_hub\\file_download.py:1132: FutureWarning: `resume_download` is deprecated and will be removed in version 1.0.0. Downloads always resume when possible. If you want to force a new download, use `force_download=True`.\n",
      "  warnings.warn(\n"
     ]
    },
    {
     "name": "stdout",
     "output_type": "stream",
     "text": [
      "15 posts not in English.\n",
      "lang\n",
      "en    185\n",
      "ko      5\n",
      "yu      5\n",
      "de      1\n",
      "wa      1\n",
      "vi      1\n",
      "it      1\n",
      "sp      1\n",
      "Name: count, dtype: int64\n",
      "[0.9995612805681291, 1.0, 0.9997456437326715, 0.9934629510976958, 0.9939350833067961, 1.0, 0.9995361457008949, 0.9994843811404859, 0.9924852218436508, 0.9008271329762769, 0.9998775100338178, 0.9010126684630508, 0.9990526062806178, 0.9994195384172144, nan, 0.9968365202718341, 0.9995662490376089, 0.9994305573726447, 0.9999142306579318, 1.0, 0.9884223446682958, 0.9455267439220882, 1.0, 0.8325220448242094, 0.9999734588418843, nan, 0.7167081920408354, 0.9998393281090387, 0.7676876141005595, 1.0, nan, 1.0, 0.9995612805681291, 0.9971653142199712, nan, nan, 1.0, 0.9999598741994595, 0.9977562002747757, 0.9803710041529512, nan, 0.998759353020348, 0.9999632901771631, 0.8880424248799985, 0.9991275699777251, 0.9968365202718341, 0.9965457668874982, 0.8917292986165837, nan, 0.9939350833067961]\n"
     ]
    }
   ],
   "source": [
    "#new onnxfp16\n",
    "v = rankers.LocalRanker(debug=True)\n",
    "df = v.rank(sample_data_facebook)\n",
    "print(df['no_toxicity'][:50].tolist())"
   ]
  },
  {
   "cell_type": "code",
   "execution_count": 3,
   "metadata": {},
   "outputs": [
    {
     "name": "stderr",
     "output_type": "stream",
     "text": [
      "c:\\Users\\Joao\\miniconda3\\envs\\ranker\\Lib\\site-packages\\huggingface_hub\\file_download.py:1132: FutureWarning: `resume_download` is deprecated and will be removed in version 1.0.0. Downloads always resume when possible. If you want to force a new download, use `force_download=True`.\n",
      "  warnings.warn(\n"
     ]
    },
    {
     "name": "stdout",
     "output_type": "stream",
     "text": [
      "15 posts not in English.\n",
      "lang\n",
      "en    185\n",
      "ko      5\n",
      "yu      5\n",
      "de      1\n",
      "wa      1\n",
      "vi      1\n",
      "it      1\n",
      "sp      1\n",
      "Name: count, dtype: int64\n",
      "[0.9995612336318516, 1.0, 0.999744305422773, 0.9934859421044495, 0.9938978111653234, 1.0, 0.9995404015985676, 0.9994813158621803, 0.9925042135740647, 0.9008051509502688, 0.9998773678558657, 0.9004917899116656, 0.999059904181947, 0.9994148946982957, nan, 0.9968419418564143, 0.999563102372675, 0.999432990082826, 0.9999131629193523, 1.0, 0.9883872247826162, 0.9452790689698345, 1.0, 0.8336145408818632, 0.9999719956143021, nan, 0.7165019951121492, 0.9998398195640568, 0.7676541577224365, 1.0, nan, 1.0, 0.9995601640935154, 0.9971662440597044, nan, nan, 1.0, 0.9999585469960801, 0.9977622649563385, 0.9804475935938557, nan, 0.9987584558643781, 0.9999638899657368, 0.8872206598056911, 0.9991305600565592, 0.996806375574969, 0.9965264143534023, 0.8916915472635907, nan, 0.9939602046792135]\n"
     ]
    }
   ],
   "source": [
    "#original\n",
    "v = rankers.LocalRanker(debug=True)\n",
    "df = v.rank(sample_data_facebook)\n",
    "print(df['no_toxicity'][:50].tolist())"
   ]
  },
  {
   "cell_type": "code",
   "execution_count": 3,
   "metadata": {},
   "outputs": [
    {
     "name": "stderr",
     "output_type": "stream",
     "text": [
      "c:\\Users\\Joao\\miniconda3\\envs\\ranker\\Lib\\site-packages\\huggingface_hub\\file_download.py:1132: FutureWarning: `resume_download` is deprecated and will be removed in version 1.0.0. Downloads always resume when possible. If you want to force a new download, use `force_download=True`.\n",
      "  warnings.warn(\n"
     ]
    },
    {
     "name": "stdout",
     "output_type": "stream",
     "text": [
      "15 posts not in English.\n",
      "lang\n",
      "en    185\n",
      "ko      5\n",
      "yu      5\n",
      "de      1\n",
      "wa      1\n",
      "vi      1\n",
      "it      1\n",
      "sp      1\n",
      "Name: count, dtype: int64\n",
      "[0.9995612805681291, 1.0, 0.9997456437326715, 0.9934629510976958, 0.9939350833067961, 1.0, 0.9995361457008949, 0.9994843811404859, 0.9924852218436508, 0.9008271329762769, 0.9998775100338178, 0.9010126684630508, 0.9990526062806178, 0.9994195384172144, nan, 0.9968365202718341, 0.9995662490376089, 0.9994305573726447, 0.9999142306579318, 1.0, 0.9884223446682958, 0.9455267439220882, 1.0, 0.8325220448242094, 0.9999734588418843, nan, 0.7167081920408354, 0.9998393281090387, 0.7676876141005595, 1.0, nan, 1.0, 0.9995612805681291, 0.9971653142199712, nan, nan, 1.0, 0.9999598741994595, 0.9977562002747757, 0.9803710041529512, nan, 0.998759353020348, 0.9999632901771631, 0.8880424248799985, 0.9991275699777251, 0.9968365202718341, 0.9965457668874982, 0.8917292986165837, nan, 0.9939350833067961]\n"
     ]
    }
   ],
   "source": [
    "#fp16, old code\n",
    "v = rankers.LocalRanker(debug=True)\n",
    "df = v.rank(sample_data_facebook)\n",
    "print(df['no_toxicity'][:50].tolist())"
   ]
  },
  {
   "cell_type": "code",
   "execution_count": 5,
   "metadata": {},
   "outputs": [],
   "source": [
    "fp16_new = [0.9995612805681291, 1.0, 0.9997456437326715, 0.9934629510976958, 0.9939350833067961, 1.0, 0.9995361457008949, 0.9994843811404859, 0.9924852218436508, 0.9008271329762769, 0.9998775100338178, 0.9010126684630508, 0.9990526062806178, 0.9994195384172144, 0.9968365202718341, 0.9995662490376089, 0.9994305573726447, 0.9999142306579318, 1.0, 0.9884223446682958, 0.9455267439220882, 1.0, 0.8325220448242094, 0.9999734588418843, 0.7167081920408354, 0.9998393281090387, 0.7676876141005595, 1.0, 1.0, 0.9995612805681291, 0.9971653142199712, 1.0, 0.9999598741994595, 0.9977562002747757, 0.9803710041529512, 0.998759353020348, 0.9999632901771631, 0.8880424248799985, 0.9991275699777251, 0.9968365202718341, 0.9965457668874982, 0.8917292986165837, 0.9939350833067961]\n",
    "fp16_old = [0.9995612805681291, 1.0, 0.9997456437326715, 0.9934629510976958, 0.9939350833067961, 1.0, 0.9995361457008949, 0.9994843811404859, 0.9924852218436508, 0.9008271329762769, 0.9998775100338178, 0.9010126684630508, 0.9990526062806178, 0.9994195384172144, 0.9968365202718341, 0.9995662490376089, 0.9994305573726447, 0.9999142306579318, 1.0, 0.9884223446682958, 0.9455267439220882, 1.0, 0.8325220448242094, 0.9999734588418843, 0.7167081920408354, 0.9998393281090387, 0.7676876141005595, 1.0, 1.0, 0.9995612805681291, 0.9971653142199712, 1.0, 0.9999598741994595, 0.9977562002747757, 0.9803710041529512, 0.998759353020348, 0.9999632901771631, 0.8880424248799985, 0.9991275699777251, 0.9968365202718341, 0.9965457668874982, 0.8917292986165837, 0.9939350833067961]\n",
    "onnx = [0.9995612336318516, 1.0, 0.999744305422773, 0.9934859421044495, 0.9938978111653234, 1.0, 0.9995404015985676, 0.9994813158621803, 0.9925042135740647, 0.9008051509502688, 0.9998773678558657, 0.9004917899116656, 0.999059904181947, 0.9994148946982957, 0.9968419418564143, 0.999563102372675, 0.999432990082826, 0.9999131629193523, 1.0, 0.9883872247826162, 0.9452790689698345, 1.0, 0.8336145408818632, 0.9999719956143021, 0.7165019951121492, 0.9998398195640568, 0.7676541577224365, 1.0, 1.0, 0.9995601640935154, 0.9971662440597044, 1.0, 0.9999585469960801, 0.9977622649563385, 0.9804475935938557, 0.9987584558643781, 0.9999638899657368, 0.8872206598056911, 0.9991305600565592, 0.996806375574969, 0.9965264143534023, 0.8916915472635907, 0.9939602046792135]"
   ]
  },
  {
   "cell_type": "code",
   "execution_count": 10,
   "metadata": {},
   "outputs": [
    {
     "name": "stdout",
     "output_type": "stream",
     "text": [
      "0.0\n",
      "7.666332450952785e-05\n"
     ]
    }
   ],
   "source": [
    "# mean difference between fp16_new and fp16_old\n",
    "print(np.mean(np.abs(np.array(fp16_new) - np.array(fp16_old))))\n",
    "\n",
    "# mean difference between fp16_new and onnx\n",
    "print(np.mean(np.abs(np.array(fp16_new) - np.array(onnx))))"
   ]
  }
 ],
 "metadata": {
  "kernelspec": {
   "display_name": "ranker",
   "language": "python",
   "name": "python3"
  },
  "language_info": {
   "codemirror_mode": {
    "name": "ipython",
    "version": 3
   },
   "file_extension": ".py",
   "mimetype": "text/x-python",
   "name": "python",
   "nbconvert_exporter": "python",
   "pygments_lexer": "ipython3",
   "version": "3.11.9"
  }
 },
 "nbformat": 4,
 "nbformat_minor": 2
}
